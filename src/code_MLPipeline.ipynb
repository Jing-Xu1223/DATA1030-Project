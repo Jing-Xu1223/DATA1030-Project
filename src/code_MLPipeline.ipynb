{
 "cells": [
  {
   "cell_type": "markdown",
   "id": "69442863-87c7-4287-b6da-ba47357ae574",
   "metadata": {},
   "source": [
    "**Loan Default Prediction**\n",
    "\n",
    "Jing Xu, Brown DSI, 12/11/24\n",
    "\n",
    "GitHub: https://github.com/Jing-Xu1223/DATA1030-Project"
   ]
  },
  {
   "cell_type": "markdown",
   "id": "ae2ef50f-c445-4ce1-b842-84588e11f165",
   "metadata": {},
   "source": [
    "**Binary Classification**\n",
    "\n",
    "- Highly Imbalanced: nearly 90% in class 0(no loan default), 10% in class 1(cause loan default)\n",
    "\n",
    "- 16 feature variables(6 categorical, 1 ordinal, 9 continuous), 1 target \"default\"\n",
    "\n",
    "- Large dataset(over 250k), No Missing Value, IID Dataset\n",
    "\n",
    "Dataset is available on Kaggle:Loan Default Prediction, Kaggle: https://www.kaggle.com/datasets/nikhil1e9/loan-default\n",
    "\n",
    "This dataset is collected by Coursera Project Network:Loan Default Prediction Coding Challenge, which includes a sample of individuals who took financial loans in 2021.\n",
    "Sources: https://www.coursera.org/projects/data-science-coding-challenge-loan-default-prediction"
   ]
  },
  {
   "cell_type": "code",
   "execution_count": 1,
   "id": "28e84cb7-ef4f-4126-ba94-a556516be6cd",
   "metadata": {},
   "outputs": [],
   "source": [
    "import numpy as np\n",
    "import pandas as pd\n",
    "from math import sqrt\n",
    "import seaborn as sns\n",
    "import matplotlib.pyplot as plt\n",
    "import warnings\n",
    "warnings.filterwarnings('ignore')\n",
    "from sklearn.preprocessing import OneHotEncoder, StandardScaler, MinMaxScaler, OrdinalEncoder\n",
    "from sklearn.model_selection import train_test_split, KFold, StratifiedKFold, GridSearchCV\n",
    "#from sklearn.pipeline import Pipeline\n",
    "from sklearn.compose import ColumnTransformer\n",
    "from sklearn.metrics import accuracy_score, f1_score, make_scorer, fbeta_score, confusion_matrix, ConfusionMatrixDisplay\n",
    "from sklearn.linear_model import LogisticRegression, Lasso, Ridge, ElasticNet\n",
    "from sklearn.ensemble import RandomForestRegressor, RandomForestClassifier\n",
    "from sklearn.svm import SVR, SVC\n",
    "from xgboost import XGBClassifier\n",
    "from imblearn.over_sampling import SMOTE\n",
    "from imblearn.pipeline import Pipeline \n",
    "from sklearn.inspection import permutation_importance"
   ]
  },
  {
   "cell_type": "code",
   "execution_count": 2,
   "id": "ef1b00b0-3799-4c3c-a7ed-282674ce5fcc",
   "metadata": {},
   "outputs": [
    {
     "name": "stdout",
     "output_type": "stream",
     "text": [
      "(255347, 17)\n"
     ]
    }
   ],
   "source": [
    "# Load dataset\n",
    "df = pd.read_csv('/Users/jingxu/Downloads/DATA1030-Fall2024/DATA1030-Project/data/Loan_default.csv')\n",
    "df = df.drop(columns=['LoanID'])\n",
    "print(df.shape)"
   ]
  },
  {
   "cell_type": "code",
   "execution_count": 4,
   "id": "ea768272-0a0e-443b-b5b5-b2bfa074e4b8",
   "metadata": {},
   "outputs": [],
   "source": [
    "# Split into features (X) and target (y)\n",
    "y = df['Default'] \n",
    "X = df.loc[:, df.columns != 'Default']"
   ]
  },
  {
   "cell_type": "markdown",
   "id": "80f4d627-d0b3-47cd-9ea7-1fdf6cffffdb",
   "metadata": {},
   "source": [
    "**Stratified Kfold Split:** 10% test set, 90% train&validation with 3 folds\n",
    "\n",
    "**CV pipeline:** see code but will explain in slides\n",
    "\n",
    "**ML algorithms:** \n",
    "- Logistic regression with elastic net\n",
    "- Random Forest Classification\n",
    "- SVM(support vector machine) Classification\n",
    "- XGBoost\n",
    "\n",
    "**parameters** see param_grids"
   ]
  },
  {
   "cell_type": "code",
   "execution_count": 5,
   "id": "a72350fd-c5af-4f58-8a5a-e9dfb3587845",
   "metadata": {},
   "outputs": [],
   "source": [
    "# Feature groups\n",
    "ordinal_ftrs = ['Education']\n",
    "ordinal_cats = [[\"High School\", \"Bachelor's\", \"Master's\", \"PhD\"]]\n",
    "onehot_ftrs = ['EmploymentType', 'MaritalStatus', 'HasMortgage', 'HasDependents', 'LoanPurpose', 'HasCoSigner']\n",
    "std_ftrs = ['Age', 'Income', 'LoanAmount', 'CreditScore', 'MonthsEmployed', 'NumCreditLines', 'InterestRate', 'LoanTerm', 'DTIRatio']\n",
    "\n",
    "# Preprocessor for features\n",
    "pre_preprocessor = ColumnTransformer(\n",
    "    transformers=[\n",
    "        ('ord', OrdinalEncoder(categories=ordinal_cats), ordinal_ftrs),\n",
    "        ('onehot', OneHotEncoder(handle_unknown='ignore'), onehot_ftrs),\n",
    "        ('std', StandardScaler(), std_ftrs)])"
   ]
  },
  {
   "cell_type": "code",
   "execution_count": 6,
   "id": "2a0fdca6-4914-4a71-a963-cf72d2942f10",
   "metadata": {},
   "outputs": [],
   "source": [
    "models = {\n",
    "    'logistic_elasticnet': LogisticRegression(penalty='elasticnet', solver='saga', max_iter=10000, class_weight='balanced'),\n",
    "    'random_forest': RandomForestClassifier(class_weight='balanced'),\n",
    "    'svm': SVC(probability=True, class_weight='balanced'),\n",
    "    'xgboost': XGBClassifier(eval_metric='logloss', scale_pos_weight=y.value_counts()[0] / y.value_counts()[1])\n",
    "}\n",
    "\n",
    "param_grids = {\n",
    "    'logistic_elasticnet': {\n",
    "        'C': [0.01, 0.1, 1, 10, 100],\n",
    "        'l1_ratio': [0.1, 0.3, 0.5, 0.7, 0.9]\n",
    "    },\n",
    "    'random_forest': {\n",
    "        #'n_estimators': [50, 100, 200, 300],\n",
    "        'max_depth': [1, 3, 5, 10, 20, 30],\n",
    "        #'min_samples_split': [2, 5, 10],\n",
    "        #'min_samples_leaf': [1, 2, 5],\n",
    "        'max_features': [0.1, 0.3, 0.5, 0.7, 0.9]\n",
    "    },\n",
    "    'svm': {\n",
    "        'C': [0.01, 0.1, 1, 10, 100],\n",
    "        'kernel': ['linear', 'rbf'],\n",
    "        'gamma': ['scale', 'auto', 0.01, 0.1, 1]\n",
    "    },\n",
    "    'xgboost': {\n",
    "        'n_estimators': [50, 100, 200],\n",
    "        'learning_rate': [0.01, 0.1, 0.2],\n",
    "        'max_depth': [1, 3, 5, 7, 10],\n",
    "        'subsample': [0.8, 1.0],\n",
    "        'colsample_bytree': [0.8, 1.0]\n",
    "    }\n",
    "}"
   ]
  },
  {
   "cell_type": "code",
   "execution_count": 7,
   "id": "7a14442b-2a04-4108-a110-a2cd8ade3d28",
   "metadata": {},
   "outputs": [],
   "source": [
    "# Use f1 as Evaluation Metric\n",
    "# Function for Stratified K-Fold cross-validation\n",
    "def MLpipeline_StratifiedKFold(X, y, preprocessor, ML_algo, param_grid):\n",
    "    train_scores = []\n",
    "    test_scores = []\n",
    "    best_models = []\n",
    "\n",
    "    for i in range(5):\n",
    "        random_state = 42*i\n",
    "\n",
    "        # Split data into other and test sets\n",
    "        X_other, X_test, y_other, y_test = train_test_split(X, y, test_size=0.1, stratify=y, random_state=random_state)\n",
    "\n",
    "        # Define pipeline with SMOTE\n",
    "        pipeline = Pipeline([\n",
    "            ('preprocessor', preprocessor),\n",
    "            ('model', ML_algo) ])\n",
    "\n",
    "        # Update parameter grid with correct step prefix\n",
    "        param_grid_prefixed = {f'model__{key}': value for key, value in param_grid.items()}\n",
    "\n",
    "        # K-Fold cross-validation\n",
    "        kfold = StratifiedKFold(n_splits=3, shuffle=True, random_state=random_state)\n",
    "\n",
    "        # Grid search with cross-validation\n",
    "        grid_search = GridSearchCV(\n",
    "            estimator=pipeline,\n",
    "            param_grid=param_grid_prefixed,\n",
    "            cv=kfold,\n",
    "            scoring='f1',\n",
    "            verbose=0,\n",
    "            n_jobs=-1\n",
    "        )\n",
    "\n",
    "        # Fit grid search on the \"other\" set\n",
    "        grid_search.fit(X_other, y_other)\n",
    "\n",
    "        # Save best model parameters\n",
    "        best_model = grid_search.best_params_\n",
    "        best_models.append(best_model)\n",
    "\n",
    "        # Evaluate train and test scores\n",
    "        train_pred = grid_search.predict(X_other)\n",
    "        test_pred = grid_search.predict(X_test)\n",
    "\n",
    "        train_score = f1_score(y_other, train_pred)\n",
    "        test_score = f1_score(y_test, test_pred)\n",
    "\n",
    "        train_scores.append(train_score)\n",
    "        test_scores.append(test_score)\n",
    "\n",
    "        print(f\"Iteration {i + 1}: Train Score = {train_score:.4f}, Test Score = {test_score:.4f}, Best Params = {best_model}\")\n",
    "\n",
    "    # Summary statistics\n",
    "    print(\"\\nTrain Scores for all iterations:\", train_scores)\n",
    "    print(\"\\nTest Scores for all iterations:\", test_scores)\n",
    "    print(f\"\\nMean Test Score: {np.mean(test_scores):.4f}\")\n",
    "    print(f\"Standard Deviation of Test Scores: {np.std(test_scores):.4f}\")\n",
    "    return train_scores, test_scores, best_models"
   ]
  },
  {
   "cell_type": "code",
   "execution_count": 8,
   "id": "327c3c71-f3a6-443f-b72b-a4248386b231",
   "metadata": {
    "scrolled": true
   },
   "outputs": [
    {
     "name": "stdout",
     "output_type": "stream",
     "text": [
      "\n",
      "Training model: logistic_elasticnet\n",
      "============================================================\n",
      "Iteration 1: Train Score = 0.3332, Test Score = 0.3825, Best Params = {'model__C': 0.1, 'model__l1_ratio': 0.3}\n",
      "Iteration 2: Train Score = 0.3436, Test Score = 0.3830, Best Params = {'model__C': 0.1, 'model__l1_ratio': 0.7}\n",
      "Iteration 3: Train Score = 0.3388, Test Score = 0.3510, Best Params = {'model__C': 0.1, 'model__l1_ratio': 0.1}\n",
      "Iteration 4: Train Score = 0.3429, Test Score = 0.3406, Best Params = {'model__C': 10, 'model__l1_ratio': 0.1}\n",
      "Iteration 5: Train Score = 0.3460, Test Score = 0.3333, Best Params = {'model__C': 0.1, 'model__l1_ratio': 0.9}\n",
      "\n",
      "Train Scores for all iterations: [0.33318405732198836, 0.34363636363636363, 0.338768115942029, 0.34285714285714286, 0.34596074851665903]\n",
      "\n",
      "Test Scores for all iterations: [0.38247011952191234, 0.3829787234042553, 0.3510204081632653, 0.3406113537117904, 0.3333333333333333]\n",
      "\n",
      "Mean Test Score: 0.3581\n",
      "Standard Deviation of Test Scores: 0.0209\n",
      "\n",
      "Training model: random_forest\n",
      "============================================================\n",
      "Iteration 1: Train Score = 0.4691, Test Score = 0.3617, Best Params = {'model__max_depth': 5, 'model__max_features': 0.1}\n",
      "Iteration 2: Train Score = 0.3858, Test Score = 0.3398, Best Params = {'model__max_depth': 3, 'model__max_features': 0.1}\n",
      "Iteration 3: Train Score = 0.4441, Test Score = 0.2857, Best Params = {'model__max_depth': 5, 'model__max_features': 0.3}\n",
      "Iteration 4: Train Score = 0.4987, Test Score = 0.3462, Best Params = {'model__max_depth': 5, 'model__max_features': 0.1}\n",
      "Iteration 5: Train Score = 0.3963, Test Score = 0.3226, Best Params = {'model__max_depth': 3, 'model__max_features': 0.1}\n",
      "\n",
      "Train Scores for all iterations: [0.4691358024691358, 0.3858227848101266, 0.4440677966101695, 0.49870466321243523, 0.3963083604777416]\n",
      "\n",
      "Test Scores for all iterations: [0.3617021276595745, 0.33980582524271846, 0.2857142857142857, 0.34615384615384615, 0.3225806451612903]\n",
      "\n",
      "Mean Test Score: 0.3312\n",
      "Standard Deviation of Test Scores: 0.0260\n",
      "\n",
      "Training model: svm\n",
      "============================================================\n",
      "Iteration 1: Train Score = 0.3456, Test Score = 0.3902, Best Params = {'model__C': 0.01, 'model__gamma': 'scale', 'model__kernel': 'rbf'}\n",
      "Iteration 2: Train Score = 0.3459, Test Score = 0.3684, Best Params = {'model__C': 0.01, 'model__gamma': 'scale', 'model__kernel': 'rbf'}\n",
      "Iteration 3: Train Score = 0.3625, Test Score = 0.3463, Best Params = {'model__C': 0.1, 'model__gamma': 'auto', 'model__kernel': 'rbf'}\n",
      "Iteration 4: Train Score = 0.3457, Test Score = 0.3822, Best Params = {'model__C': 0.01, 'model__gamma': 'scale', 'model__kernel': 'rbf'}\n",
      "Iteration 5: Train Score = 0.3557, Test Score = 0.3292, Best Params = {'model__C': 0.01, 'model__gamma': 'scale', 'model__kernel': 'rbf'}\n",
      "\n",
      "Train Scores for all iterations: [0.34558823529411764, 0.34585071859063515, 0.3625177472787506, 0.3456904541241891, 0.35572374645222327]\n",
      "\n",
      "Test Scores for all iterations: [0.3902439024390244, 0.3684210526315789, 0.3463203463203463, 0.38222222222222224, 0.3292181069958848]\n",
      "\n",
      "Mean Test Score: 0.3633\n",
      "Standard Deviation of Test Scores: 0.0226\n",
      "\n",
      "Training model: xgboost\n",
      "============================================================\n",
      "Iteration 1: Train Score = 0.5039, Test Score = 0.3350, Best Params = {'model__colsample_bytree': 0.8, 'model__learning_rate': 0.01, 'model__max_depth': 5, 'model__n_estimators': 200, 'model__subsample': 0.8}\n",
      "Iteration 2: Train Score = 0.5222, Test Score = 0.3864, Best Params = {'model__colsample_bytree': 0.8, 'model__learning_rate': 0.01, 'model__max_depth': 5, 'model__n_estimators': 200, 'model__subsample': 0.8}\n",
      "Iteration 3: Train Score = 0.4660, Test Score = 0.3694, Best Params = {'model__colsample_bytree': 1.0, 'model__learning_rate': 0.1, 'model__max_depth': 3, 'model__n_estimators': 100, 'model__subsample': 0.8}\n",
      "Iteration 4: Train Score = 0.3511, Test Score = 0.3947, Best Params = {'model__colsample_bytree': 0.8, 'model__learning_rate': 0.2, 'model__max_depth': 1, 'model__n_estimators': 100, 'model__subsample': 0.8}\n",
      "Iteration 5: Train Score = 0.4525, Test Score = 0.2793, Best Params = {'model__colsample_bytree': 0.8, 'model__learning_rate': 0.1, 'model__max_depth': 3, 'model__n_estimators': 100, 'model__subsample': 0.8}\n",
      "\n",
      "Train Scores for all iterations: [0.5038932146829811, 0.5221843003412969, 0.46599894570374273, 0.351131221719457, 0.4524793388429752]\n",
      "\n",
      "Test Scores for all iterations: [0.33497536945812806, 0.38636363636363635, 0.36936936936936937, 0.39473684210526316, 0.27927927927927926]\n",
      "\n",
      "Mean Test Score: 0.3529\n",
      "Standard Deviation of Test Scores: 0.0421\n"
     ]
    }
   ],
   "source": [
    "# Testing the pipeline\n",
    "results = {}\n",
    "for model_name, model in models.items():\n",
    "    print(f\"\\nTraining model: {model_name}\\n{'=' * 60}\")\n",
    "\n",
    "    # Execute pipeline for the current model\n",
    "    train_scores, test_scores, best_models = MLpipeline_StratifiedKFold(X, y, pre_preprocessor, model, param_grids[model_name])\n",
    "\n",
    "    results[model_name] = {\n",
    "        'mean_score': np.mean(test_scores),\n",
    "        'std_score': np.std(test_scores),\n",
    "        'best_models': best_models}"
   ]
  },
  {
   "cell_type": "code",
   "execution_count": 9,
   "id": "d709c8f7-dafd-40f7-8535-bf5f120e7be7",
   "metadata": {},
   "outputs": [
    {
     "name": "stdout",
     "output_type": "stream",
     "text": [
      "\n",
      "============================================================\n",
      "Summary of Findings\n",
      "============================================================\n",
      "logistic_elasticnet: Mean f1_score = 0.3581, Std f1_score = 0.0209\n",
      "random_forest: Mean f1_score = 0.3312, Std f1_score = 0.0260\n",
      "svm: Mean f1_score = 0.3633, Std f1_score = 0.0226\n",
      "xgboost: Mean f1_score = 0.3529, Std f1_score = 0.0421\n"
     ]
    }
   ],
   "source": [
    "# Summary of results\n",
    "print(f\"\\n{'=' * 60}\\nSummary of Findings\\n{'=' * 60}\")\n",
    "for model_name, result in results.items():\n",
    "    print(f\"{model_name}: Mean f1_score = {result['mean_score']:.4f}, Std f1_score = {result['std_score']:.4f}\")"
   ]
  },
  {
   "cell_type": "code",
   "execution_count": 10,
   "id": "67e25d2d-ff06-4434-86d0-0a477d3301a0",
   "metadata": {},
   "outputs": [
    {
     "name": "stdout",
     "output_type": "stream",
     "text": [
      "\n",
      "Best Model: svm\n"
     ]
    }
   ],
   "source": [
    "# Find the best model based on mean accuracy\n",
    "best_model_name = max(results, key=lambda model: results[model]['mean_score'])\n",
    "best_model = results[best_model_name]['best_models'][0]  # Use the first iteration's best model\n",
    "print(f\"\\nBest Model: {best_model_name}\")"
   ]
  },
  {
   "cell_type": "code",
   "execution_count": 11,
   "id": "5b82905e-fbf6-425c-a20d-f7f543326202",
   "metadata": {},
   "outputs": [
    {
     "name": "stdout",
     "output_type": "stream",
     "text": [
      "\n",
      "Baseline F1 Score (class 1): 0.2081\n"
     ]
    }
   ],
   "source": [
    "# Assuming `y` contains the true labels and `y_pred` contains the baseline predictions\n",
    "# Baseline 1: Predict all zeros (no positive predictions)\n",
    "y_pred_all_zero = np.zeros_like(y)\n",
    "# Baseline 2: Predict all ones (all positive predictions)\n",
    "y_pred_all_one = np.ones_like(y)\n",
    "\n",
    "# Calculate F1-score for class 1 baselines\n",
    "baseline = f1_score(y, y_pred_all_one, average='binary')\n",
    "print(f\"\\nBaseline F1 Score (class 1): {baseline:.4f}\")"
   ]
  },
  {
   "cell_type": "code",
   "execution_count": 45,
   "id": "37738dc3-2374-4434-a9b6-ac36a4d49de1",
   "metadata": {},
   "outputs": [
    {
     "data": {
      "image/png": "[encoded data removed]",
      "text/plain": [
       "<Figure size 600x500 with 1 Axes>"
      ]
     },
     "metadata": {},
     "output_type": "display_data"
    }
   ],
   "source": [
    "# Assuming `results` contains the mean and std scores for each model\n",
    "model_names = list(results.keys())\n",
    "mean_scores = [results[model]['mean_score'] for model in model_names]\n",
    "std_scores = [results[model]['std_score'] for model in model_names]\n",
    "\n",
    "plt.figure(figsize=(6, 5))\n",
    "# Plot mean scores with error bars representing standard deviation\n",
    "plt.bar(model_names, mean_scores, yerr=std_scores, capsize=5, color='skyblue', alpha=0.8, edgecolor='black')\n",
    "# Add the baseline as a horizontal line\n",
    "plt.axhline(y=baseline, color='red', linestyle='--', linewidth=1.5, label=f'Baseline ({baseline})')\n",
    "\n",
    "# Add labels, title, and grid\n",
    "plt.xlabel('ML Models', fontsize=12)\n",
    "plt.ylabel('F1 Score (Mean ± Std Dev)', fontsize=12)\n",
    "plt.title('Comparison of ML Models on Test F1 Scores', fontsize=14)\n",
    "plt.ylim(0, 0.6)  # F1 scores range from 0 to 1\n",
    "plt.xticks(rotation=45, fontsize=10)\n",
    "plt.grid(axis='y', linestyle='--', alpha=0.7)\n",
    "\n",
    "# Annotate the mean scores on the bars\n",
    "for i, (mean, std) in enumerate(zip(mean_scores, std_scores)):\n",
    "    plt.text(i, mean + std + 0.02, f'{mean:.2f} ± {std:.2f}', ha='center', fontsize=10)\n",
    "\n",
    "plt.tight_layout()\n",
    "plt.show()"
   ]
  },
  {
   "cell_type": "code",
   "execution_count": null,
   "id": "362f985d-3bb9-43de-884b-b0572c9d166f",
   "metadata": {},
   "outputs": [],
   "source": [
    "# Assuming the best model and its parameters have been determined\n",
    "best_model_pipeline = Pipeline([\n",
    "    ('preprocessor', pre_preprocessor),\n",
    "    ('smote', SMOTE(random_state=42)),\n",
    "    ('model', models[best_model_name])])\n",
    "\n",
    "# Retrieve the best hyperparameters and set them to the model\n",
    "best_hyperparams = {key.replace('model__', ''): value for key, value in best_model.items()}\n",
    "best_model_pipeline.named_steps['model'].set_params(**best_hyperparams)\n",
    "print(f\"Best Model: {best_model_name}\")\n",
    "print(f\"Best Hyperparameter: {best_hyperparams}\")\n",
    "\n",
    "# Final evaluation\n",
    "X_train, X_test, y_train, y_test = train_test_split(X, y, test_size=0.1, stratify=y, random_state=42)\n",
    "best_model_pipeline.fit(X_train, y_train)\n",
    "y_pred = best_model_pipeline.predict(X_test)\n",
    "\n",
    "# Generate the confusion matrix\n",
    "cm = confusion_matrix(y_test, y_pred)\n",
    "\n",
    "# Plot the confusion matrix\n",
    "disp = ConfusionMatrixDisplay(confusion_matrix=cm, display_labels=best_model_pipeline.named_steps['model'].classes_)\n",
    "disp.plot(cmap='Blues', values_format=\".2f\")  # Format as percentage with two decimal places\n",
    "plt.title(f\"Confusion Matrix for Best Model: {best_model_name} \")\n",
    "plt.xlabel('Predicted Label')\n",
    "plt.ylabel('True Label')\n",
    "plt.show()"
   ]
  }
 ],
 "metadata": {
  "kernelspec": {
   "display_name": "Python 3 (ipykernel)",
   "language": "python",
   "name": "python3"
  },
  "language_info": {
   "codemirror_mode": {
    "name": "ipython",
    "version": 3
   },
   "file_extension": ".py",
   "mimetype": "text/x-python",
   "name": "python",
   "nbconvert_exporter": "python",
   "pygments_lexer": "ipython3",
   "version": "3.12.5"
  }
 },
 "nbformat": 4,
 "nbformat_minor": 5
}
